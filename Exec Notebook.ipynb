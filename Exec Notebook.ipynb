{
 "cells": [
  {
   "cell_type": "markdown",
   "metadata": {},
   "source": [
    "# Intro\n",
    "\n",
    "This notebook supplements my [blog post](https://medium.com/@aneesh.kodali/chief-exec-officer-create-multiple-dataframes-at-once-53e256f31f01?source=friends_link&sk=73845dffdecf7bbf63d4a887644d28c5) where I outline the use of the `exec()` function and its use when reading in multiple files as dataframes.\n",
    "\n",
    "I'll first show some examples to illustrate how `exec()` works. Recall, the steps are:\n",
    "\n",
    "1) Create list of variables\n",
    "2) Create list of values\n",
    "3) Iterate through both lists to assign values to variables"
   ]
  },
  {
   "cell_type": "markdown",
   "metadata": {},
   "source": [
    "# `Exec()` Examples"
   ]
  },
  {
   "cell_type": "markdown",
   "metadata": {},
   "source": [
    "## Example: Calculate SumOne's Name\n",
    "\n",
    "Let's say you want to find the 'sum' of a person's name. What I mean is:\n",
    "- Assign each letter in the alphabet to some value\n",
    "- Go through a name and add up all letter values for each letter in that name"
   ]
  },
  {
   "cell_type": "code",
   "execution_count": 1,
   "metadata": {
    "ExecuteTime": {
     "end_time": "2020-02-13T20:36:08.436034Z",
     "start_time": "2020-02-13T20:36:08.427058Z"
    }
   },
   "outputs": [
    {
     "name": "stdout",
     "output_type": "stream",
     "text": [
      "Variable   Type    Data/Info\n",
      "----------------------------\n",
      "a          int     1\n",
      "b          int     2\n",
      "c          int     3\n",
      "d          int     4\n",
      "e          int     5\n",
      "f          int     6\n",
      "g          int     7\n",
      "h          int     8\n",
      "i          int     9\n",
      "j          int     10\n",
      "k          int     11\n",
      "l          int     12\n",
      "m          int     13\n",
      "n          int     14\n",
      "number     int     26\n",
      "o          int     15\n",
      "p          int     16\n",
      "q          int     17\n",
      "r          int     18\n",
      "s          int     19\n",
      "t          int     20\n",
      "u          int     21\n",
      "v          int     22\n",
      "w          int     23\n",
      "x          int     24\n",
      "y          int     25\n",
      "z          int     26\n"
     ]
    }
   ],
   "source": [
    "import string\n",
    "\n",
    "# Create list of variables\n",
    "letterList = list(string.ascii_lowercase)\n",
    "\n",
    "# Create list of values\n",
    "numberList = list(range(1,27))\n",
    "\n",
    "# Iterate through both lists to assign values\n",
    "for letter, number in zip(letterList, numberList):\n",
    "    exec(f\"{letter} = {number}\")\n",
    "\n",
    "# Verify that variables have been created\n",
    "%whos int"
   ]
  },
  {
   "cell_type": "markdown",
   "metadata": {},
   "source": [
    "Now we can find the sum of my name (in lower case)"
   ]
  },
  {
   "cell_type": "code",
   "execution_count": 2,
   "metadata": {
    "ExecuteTime": {
     "end_time": "2020-02-13T20:36:10.480162Z",
     "start_time": "2020-02-13T20:36:10.465692Z"
    }
   },
   "outputs": [
    {
     "name": "stdout",
     "output_type": "stream",
     "text": [
      "a 1\n",
      "n 14\n",
      "e 5\n",
      "e 5\n",
      "s 19\n",
      "h 8\n"
     ]
    },
    {
     "data": {
      "text/plain": [
       "52"
      ]
     },
     "execution_count": 2,
     "metadata": {},
     "output_type": "execute_result"
    }
   ],
   "source": [
    "name = 'aneesh'\n",
    "nameSum=0\n",
    "for letter in name:\n",
    "    # Print each letter and its value\n",
    "    exec(f\"print(letter, {letter})\")\n",
    "    # Add letter value to nameSum\n",
    "    exec(f\"nameSum+={letter}\")\n",
    "nameSum"
   ]
  },
  {
   "cell_type": "markdown",
   "metadata": {},
   "source": [
    "## Creating and assigning variable values to 'themselves'"
   ]
  },
  {
   "cell_type": "markdown",
   "metadata": {},
   "source": [
    "Now let's say we have a list of values. For each value in our list, we want to create a variable with the same name as the value itself. We can use `exec()` to do this as well. One thing to note in this case is that, since our values are strings, we have to use quotes (single or double) when typing in the value (the right hand side of the equal sign). \n",
    "\n",
    "If you don't understand this, write the code for the  first iteration in the loop. It would look like:\n",
    "                \n",
    "```python\n",
    "lion = \"lion\"\n",
    "```\n",
    "                \n",
    "Remember that `exec()` evaluates a string. So, when passing in strings as the value, make sure they retain their own set of quotes. Still don't believe me? Try taking out the single quotes in the right hand side of the exec statement below. Python will think that your string \"lion\" is a variable called 'lion' and will throw an error because you haven't defined the variable 'lion' anywhere. It will think you're writing\n",
    "\n",
    "'lion the variable' = 'lion the variable' \n",
    "\n",
    "instead of \n",
    "\n",
    "'lion the variable' = 'lion the string'"
   ]
  },
  {
   "cell_type": "code",
   "execution_count": 3,
   "metadata": {
    "ExecuteTime": {
     "end_time": "2020-02-13T20:36:14.082211Z",
     "start_time": "2020-02-13T20:36:14.076229Z"
    }
   },
   "outputs": [
    {
     "name": "stdout",
     "output_type": "stream",
     "text": [
      "Variable   Type    Data/Info\n",
      "----------------------------\n",
      "animal     str     bear\n",
      "bear       str     bear\n",
      "letter     str     h\n",
      "lion       str     lion\n",
      "name       str     aneesh\n",
      "tiger      str     tiger\n"
     ]
    }
   ],
   "source": [
    "animals = [\"lion\", \"tiger\", \"bear\"]\n",
    "\n",
    "for animal in animals:\n",
    "    exec(f\"{animal} = '{animal}'\")\n",
    "    \n",
    "# Verify\n",
    "%whos str"
   ]
  },
  {
   "cell_type": "markdown",
   "metadata": {},
   "source": [
    "# Read in Files and Create DataFrames\n",
    "\n",
    "\n",
    "Data is in the 'data' folder.\n",
    "\n",
    "Old way: write out X `pd.read_csv()` statements \n",
    "\n",
    "```python\n",
    "bom_movie_gross = pd.read_csv('data/bom.movie_gross.csv')\n",
    "imdb_name_basics = pd.read_csv('data/imdb.name.basics.csv')\n",
    "imdb_title_akas = pd.read_csv('data/imdb.title.akas.csv')\n",
    "...\n",
    "tmdb_movies = pd.read_csv('data/tmdb.movies.csv')\n",
    "tn_movie_budgets = pd.read_csv('data/tn.movie_budgets.csv')\n",
    "\n",
    "```\n",
    "\n",
    "New way: write out 1 `exec()` statement"
   ]
  },
  {
   "cell_type": "code",
   "execution_count": 4,
   "metadata": {
    "ExecuteTime": {
     "end_time": "2020-02-13T20:36:19.097830Z",
     "start_time": "2020-02-13T20:36:16.359742Z"
    }
   },
   "outputs": [
    {
     "name": "stdout",
     "output_type": "stream",
     "text": [
      "Variable                Type         Data/Info\n",
      "----------------------------------------------\n",
      "bom_movie_gross         DataFrame                             <...>\\n[3387 rows x 5 columns]\n",
      "imdb_name_basics        DataFrame               nconst        <...>[606648 rows x 6 columns]\n",
      "imdb_title_akas         DataFrame             title_id  orderi<...>[331703 rows x 8 columns]\n",
      "imdb_title_basics       DataFrame               tconst        <...>[146144 rows x 6 columns]\n",
      "imdb_title_crew         DataFrame               tconst        <...>[146144 rows x 3 columns]\n",
      "imdb_title_principals   DataFrame                tconst  order<...>1028186 rows x 6 columns]\n",
      "imdb_title_ratings      DataFrame               tconst  averag<...>n[73856 rows x 3 columns]\n",
      "tmdb_movies             DataFrame           Unnamed: 0        <...>[26517 rows x 10 columns]\n",
      "tn_movie_budgets        DataFrame          id  release_date   <...>\\n[5782 rows x 6 columns]\n"
     ]
    }
   ],
   "source": [
    "import pandas as pd\n",
    "import os\n",
    "\n",
    "fileList = os.listdir('data')\n",
    "\n",
    "# Using file names to create dataframe names\n",
    "# Removing file extension and replacing periods with underscores\n",
    "dfList = [x.replace('.'+x.split('.')[-1], '').replace('.','_') for x in fileList]\n",
    "\n",
    "for df, file in zip(dfList, fileList):\n",
    "    exec(f\"{df} = pd.read_csv('data/{file}')\")\n",
    "        \n",
    "# Verify\n",
    "%whos DataFrame "
   ]
  }
 ],
 "metadata": {
  "kernelspec": {
   "display_name": "Python 3",
   "language": "python",
   "name": "python3"
  },
  "language_info": {
   "codemirror_mode": {
    "name": "ipython",
    "version": 3
   },
   "file_extension": ".py",
   "mimetype": "text/x-python",
   "name": "python",
   "nbconvert_exporter": "python",
   "pygments_lexer": "ipython3",
   "version": "3.7.3"
  },
  "toc": {
   "base_numbering": 1,
   "nav_menu": {},
   "number_sections": true,
   "sideBar": true,
   "skip_h1_title": false,
   "title_cell": "Table of Contents",
   "title_sidebar": "Contents",
   "toc_cell": false,
   "toc_position": {},
   "toc_section_display": true,
   "toc_window_display": true
  },
  "varInspector": {
   "cols": {
    "lenName": 16,
    "lenType": 16,
    "lenVar": 40
   },
   "kernels_config": {
    "python": {
     "delete_cmd_postfix": "",
     "delete_cmd_prefix": "del ",
     "library": "var_list.py",
     "varRefreshCmd": "print(var_dic_list())"
    },
    "r": {
     "delete_cmd_postfix": ") ",
     "delete_cmd_prefix": "rm(",
     "library": "var_list.r",
     "varRefreshCmd": "cat(var_dic_list()) "
    }
   },
   "types_to_exclude": [
    "module",
    "function",
    "builtin_function_or_method",
    "instance",
    "_Feature"
   ],
   "window_display": false
  }
 },
 "nbformat": 4,
 "nbformat_minor": 2
}
